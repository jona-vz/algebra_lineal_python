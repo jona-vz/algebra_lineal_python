{
 "cells": [
  {
   "cell_type": "code",
   "execution_count": 1,
   "id": "68f826dc",
   "metadata": {},
   "outputs": [],
   "source": [
    "import numpy as np"
   ]
  },
  {
   "cell_type": "code",
   "execution_count": 3,
   "id": "15d4d612",
   "metadata": {},
   "outputs": [],
   "source": [
    "A = np.array([[2,3],[5,7],[11,13]])\n",
    "B = np.array([[1,3],[2,1]])\n",
    "C = np.array([[3,1],[4,2]])"
   ]
  },
  {
   "cell_type": "code",
   "execution_count": 4,
   "id": "c2f30802",
   "metadata": {},
   "outputs": [
    {
     "data": {
      "text/plain": [
       "array([[ 60,  26],\n",
       "       [145,  63],\n",
       "       [295, 129]])"
      ]
     },
     "execution_count": 4,
     "metadata": {},
     "output_type": "execute_result"
    }
   ],
   "source": [
    "#asociativa\n",
    "ABC = A.dot(B.dot(C))\n",
    "ABC"
   ]
  },
  {
   "cell_type": "code",
   "execution_count": 6,
   "id": "aca93127",
   "metadata": {},
   "outputs": [
    {
     "data": {
      "text/plain": [
       "array([[ 60,  26],\n",
       "       [145,  63],\n",
       "       [295, 129]])"
      ]
     },
     "execution_count": 6,
     "metadata": {},
     "output_type": "execute_result"
    }
   ],
   "source": [
    "AB_C = A.dot(B).dot(C)\n",
    "AB_C"
   ]
  },
  {
   "cell_type": "code",
   "execution_count": 7,
   "id": "bf176d15",
   "metadata": {},
   "outputs": [],
   "source": [
    "#distributiva\n",
    "D = A.dot(B+C)\n",
    "E = (A.dot(B))+(A.dot(C))"
   ]
  },
  {
   "cell_type": "code",
   "execution_count": 8,
   "id": "983f5aa2",
   "metadata": {},
   "outputs": [
    {
     "data": {
      "text/plain": [
       "array([[ 26,  17],\n",
       "       [ 62,  41],\n",
       "       [122,  83]])"
      ]
     },
     "execution_count": 8,
     "metadata": {},
     "output_type": "execute_result"
    }
   ],
   "source": [
    "D"
   ]
  },
  {
   "cell_type": "code",
   "execution_count": 9,
   "id": "98814648",
   "metadata": {},
   "outputs": [
    {
     "data": {
      "text/plain": [
       "array([[ 26,  17],\n",
       "       [ 62,  41],\n",
       "       [122,  83]])"
      ]
     },
     "execution_count": 9,
     "metadata": {},
     "output_type": "execute_result"
    }
   ],
   "source": [
    "E"
   ]
  },
  {
   "cell_type": "code",
   "execution_count": 10,
   "id": "313b984b",
   "metadata": {},
   "outputs": [
    {
     "data": {
      "text/plain": [
       "array([[ True,  True],\n",
       "       [ True,  True],\n",
       "       [ True,  True]])"
      ]
     },
     "execution_count": 10,
     "metadata": {},
     "output_type": "execute_result"
    }
   ],
   "source": [
    "D==E"
   ]
  },
  {
   "cell_type": "code",
   "execution_count": 12,
   "id": "f3d382de",
   "metadata": {},
   "outputs": [],
   "source": [
    "#conmutativa\n",
    "F = B.dot(C)\n",
    "G = C.dot(B)"
   ]
  },
  {
   "cell_type": "code",
   "execution_count": 13,
   "id": "78ac9509",
   "metadata": {},
   "outputs": [
    {
     "data": {
      "text/plain": [
       "array([[False, False],\n",
       "       [False, False]])"
      ]
     },
     "execution_count": 13,
     "metadata": {},
     "output_type": "execute_result"
    }
   ],
   "source": [
    "F==G"
   ]
  },
  {
   "cell_type": "code",
   "execution_count": 14,
   "id": "7485f4a3",
   "metadata": {},
   "outputs": [
    {
     "data": {
      "text/plain": [
       "array([[15,  7],\n",
       "       [10,  4]])"
      ]
     },
     "execution_count": 14,
     "metadata": {},
     "output_type": "execute_result"
    }
   ],
   "source": [
    "F"
   ]
  },
  {
   "cell_type": "code",
   "execution_count": 15,
   "id": "ff22a01c",
   "metadata": {},
   "outputs": [
    {
     "data": {
      "text/plain": [
       "array([[ 5, 10],\n",
       "       [ 8, 14]])"
      ]
     },
     "execution_count": 15,
     "metadata": {},
     "output_type": "execute_result"
    }
   ],
   "source": [
    "G"
   ]
  },
  {
   "cell_type": "markdown",
   "id": "68eb199c",
   "metadata": {},
   "source": [
    "Pero la multiplicacion de vectores si es conmutativa"
   ]
  },
  {
   "cell_type": "code",
   "execution_count": 16,
   "id": "53d1024b",
   "metadata": {},
   "outputs": [],
   "source": [
    "v1 = np.array([2,7])\n",
    "v2 = np.array([3,5])"
   ]
  },
  {
   "cell_type": "code",
   "execution_count": 17,
   "id": "e29af87b",
   "metadata": {},
   "outputs": [],
   "source": [
    "v1_tv2 = v1.T.dot(v2)"
   ]
  },
  {
   "cell_type": "code",
   "execution_count": 18,
   "id": "5c4e975d",
   "metadata": {},
   "outputs": [],
   "source": [
    "v2_tv2 = v2.T.dot(v1)"
   ]
  },
  {
   "cell_type": "code",
   "execution_count": 19,
   "id": "b77b3295",
   "metadata": {},
   "outputs": [
    {
     "data": {
      "text/plain": [
       "41"
      ]
     },
     "execution_count": 19,
     "metadata": {},
     "output_type": "execute_result"
    }
   ],
   "source": [
    "v1_tv2"
   ]
  },
  {
   "cell_type": "code",
   "execution_count": 20,
   "id": "b0e441d0",
   "metadata": {},
   "outputs": [
    {
     "data": {
      "text/plain": [
       "41"
      ]
     },
     "execution_count": 20,
     "metadata": {},
     "output_type": "execute_result"
    }
   ],
   "source": [
    "v2_tv2"
   ]
  }
 ],
 "metadata": {
  "kernelspec": {
   "display_name": "Python 3 (ipykernel)",
   "language": "python",
   "name": "python3"
  },
  "language_info": {
   "codemirror_mode": {
    "name": "ipython",
    "version": 3
   },
   "file_extension": ".py",
   "mimetype": "text/x-python",
   "name": "python",
   "nbconvert_exporter": "python",
   "pygments_lexer": "ipython3",
   "version": "3.8.13"
  }
 },
 "nbformat": 4,
 "nbformat_minor": 5
}
