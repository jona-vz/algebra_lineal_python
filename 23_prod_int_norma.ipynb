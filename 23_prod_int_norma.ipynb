{
 "cells": [
  {
   "cell_type": "code",
   "execution_count": 1,
   "id": "71bd4ba0",
   "metadata": {},
   "outputs": [],
   "source": [
    "%matplotlib inline\n",
    "\n",
    "import numpy as np\n",
    "import matplotlib.pyplot as plt\n",
    "import seaborn as sns"
   ]
  },
  {
   "cell_type": "code",
   "execution_count": 2,
   "id": "a74fbe8a",
   "metadata": {},
   "outputs": [],
   "source": [
    "v1 = np.array([0,0,0,3])\n",
    "v2 = np.array([0,0,3,3])"
   ]
  },
  {
   "cell_type": "code",
   "execution_count": 6,
   "id": "cb87b50d",
   "metadata": {},
   "outputs": [
    {
     "data": {
      "image/png": "[encoded data removed]",
      "text/plain": [
       "<Figure size 432x288 with 1 Axes>"
      ]
     },
     "metadata": {
      "needs_background": "light"
     },
     "output_type": "display_data"
    }
   ],
   "source": [
    "plt.xlim(-2,6)\n",
    "plt.ylim(-2,6)\n",
    "\n",
    "plt.quiver([v1[0],v2[0]],\n",
    "           [v1[1],v2[1]],\n",
    "           [v1[2],v2[2]],\n",
    "           [v1[3],v2[3]],\n",
    "          angles='xy', scale_units='xy', scale=1,\n",
    "          color=sns.color_palette()\n",
    "          )\n",
    "plt.grid(zorder=-1)\n",
    "plt.show()"
   ]
  },
  {
   "cell_type": "code",
   "execution_count": 7,
   "id": "1050dd83",
   "metadata": {},
   "outputs": [],
   "source": [
    "v1 = np.array([0,3])\n",
    "v2 = np.array([3,3])"
   ]
  },
  {
   "cell_type": "code",
   "execution_count": 8,
   "id": "79ab3ccf",
   "metadata": {},
   "outputs": [
    {
     "data": {
      "text/plain": [
       "9"
      ]
     },
     "execution_count": 8,
     "metadata": {},
     "output_type": "execute_result"
    }
   ],
   "source": [
    "v1.T.dot(v2)"
   ]
  },
  {
   "cell_type": "code",
   "execution_count": 10,
   "id": "a51e9d0d",
   "metadata": {},
   "outputs": [],
   "source": [
    "nv1 = np.linalg.norm(v1)\n",
    "nv2 = np.linalg.norm(v2)"
   ]
  },
  {
   "cell_type": "code",
   "execution_count": 11,
   "id": "8e64b87d",
   "metadata": {},
   "outputs": [
    {
     "data": {
      "text/plain": [
       "9.0"
      ]
     },
     "execution_count": 11,
     "metadata": {},
     "output_type": "execute_result"
    }
   ],
   "source": [
    "nv1 * nv2 * np.cos(np.deg2rad(45))"
   ]
  },
  {
   "cell_type": "code",
   "execution_count": null,
   "id": "f343bbff",
   "metadata": {},
   "outputs": [],
   "source": []
  }
 ],
 "metadata": {
  "kernelspec": {
   "display_name": "Python 3 (ipykernel)",
   "language": "python",
   "name": "python3"
  },
  "language_info": {
   "codemirror_mode": {
    "name": "ipython",
    "version": 3
   },
   "file_extension": ".py",
   "mimetype": "text/x-python",
   "name": "python",
   "nbconvert_exporter": "python",
   "pygments_lexer": "ipython3",
   "version": "3.8.13"
  }
 },
 "nbformat": 4,
 "nbformat_minor": 5
}
