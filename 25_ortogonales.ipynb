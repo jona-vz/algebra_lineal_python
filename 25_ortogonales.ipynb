{
 "cells": [
  {
   "cell_type": "code",
   "execution_count": 1,
   "id": "35979584",
   "metadata": {},
   "outputs": [],
   "source": [
    "%matplotlib inline\n",
    "\n",
    "import numpy as np\n",
    "import matplotlib.pyplot as plt\n",
    "import seaborn as sns"
   ]
  },
  {
   "cell_type": "code",
   "execution_count": 2,
   "id": "3186a4da",
   "metadata": {},
   "outputs": [],
   "source": [
    "v1 = np.array([0,0,2,2])\n",
    "v2 = np.array([0,0,2,-2])"
   ]
  },
  {
   "cell_type": "code",
   "execution_count": 3,
   "id": "17760e74",
   "metadata": {},
   "outputs": [
    {
     "data": {
      "image/png": "[encoded data removed]",
      "text/plain": [
       "<Figure size 432x288 with 1 Axes>"
      ]
     },
     "metadata": {
      "needs_background": "light"
     },
     "output_type": "display_data"
    }
   ],
   "source": [
    "plt.quiver([v1[0],v2[0]],\n",
    "           [v1[1],v2[1]],\n",
    "           [v1[2],v2[2]],\n",
    "           [v1[3],v2[3]],\n",
    "          angles='xy', scale_units='xy', scale=1,\n",
    "          color=sns.color_palette()\n",
    "          )\n",
    "plt.xlim(-2,4)\n",
    "plt.ylim(-3,3)\n",
    "plt.grid(zorder=-1)\n",
    "plt.show()"
   ]
  },
  {
   "cell_type": "code",
   "execution_count": 4,
   "id": "07b8ac07",
   "metadata": {},
   "outputs": [],
   "source": [
    "v1 = np.array([2,2])\n",
    "v2 = np.array([2,-2])"
   ]
  },
  {
   "cell_type": "code",
   "execution_count": 5,
   "id": "2f6b9683",
   "metadata": {},
   "outputs": [
    {
     "data": {
      "text/plain": [
       "0"
      ]
     },
     "execution_count": 5,
     "metadata": {},
     "output_type": "execute_result"
    }
   ],
   "source": [
    "v1.dot(v2.T)"
   ]
  },
  {
   "cell_type": "code",
   "execution_count": 6,
   "id": "d303a558",
   "metadata": {},
   "outputs": [],
   "source": [
    "#el cero anterior quiere decir que forman un angulo de 90°"
   ]
  },
  {
   "cell_type": "code",
   "execution_count": 7,
   "id": "dd9d529c",
   "metadata": {},
   "outputs": [
    {
     "data": {
      "text/plain": [
       "2.8284271247461903"
      ]
     },
     "execution_count": 7,
     "metadata": {},
     "output_type": "execute_result"
    }
   ],
   "source": [
    "np.linalg.norm(v1)"
   ]
  },
  {
   "cell_type": "code",
   "execution_count": 8,
   "id": "fb7a0182",
   "metadata": {},
   "outputs": [
    {
     "data": {
      "text/plain": [
       "2.8284271247461903"
      ]
     },
     "execution_count": 8,
     "metadata": {},
     "output_type": "execute_result"
    }
   ],
   "source": [
    "np.linalg.norm(v2)"
   ]
  },
  {
   "cell_type": "code",
   "execution_count": 9,
   "id": "4f0506fa",
   "metadata": {},
   "outputs": [],
   "source": [
    "#NO SON ORTONORMALES PORQUE NO SON 1 LAS NORMAS\n",
    "#Probemos con otros"
   ]
  },
  {
   "cell_type": "code",
   "execution_count": 10,
   "id": "a90e3140",
   "metadata": {},
   "outputs": [],
   "source": [
    "v1 = np.array([1,0])\n",
    "v2 = np.array([0,-1])"
   ]
  },
  {
   "cell_type": "code",
   "execution_count": 12,
   "id": "5755ec87",
   "metadata": {},
   "outputs": [
    {
     "data": {
      "text/plain": [
       "0"
      ]
     },
     "execution_count": 12,
     "metadata": {},
     "output_type": "execute_result"
    }
   ],
   "source": [
    "v1.dot(v2.T) #ortogonales"
   ]
  },
  {
   "cell_type": "code",
   "execution_count": 14,
   "id": "9f38455c",
   "metadata": {},
   "outputs": [
    {
     "name": "stdout",
     "output_type": "stream",
     "text": [
      "1.0\n",
      "1.0\n"
     ]
    }
   ],
   "source": [
    "print(np.linalg.norm(v1))\n",
    "print(np.linalg.norm(v2)) #ORTONORMALES"
   ]
  },
  {
   "cell_type": "code",
   "execution_count": 15,
   "id": "73b3d6f3",
   "metadata": {},
   "outputs": [],
   "source": [
    "v = np.array([7,-7,3])\n",
    "u = np.array([1,1,0])\n",
    "w = np.array([0,0,1])"
   ]
  },
  {
   "cell_type": "code",
   "execution_count": 16,
   "id": "d76625c9",
   "metadata": {},
   "outputs": [
    {
     "data": {
      "text/plain": [
       "0"
      ]
     },
     "execution_count": 16,
     "metadata": {},
     "output_type": "execute_result"
    }
   ],
   "source": [
    "v.dot(u.T)"
   ]
  },
  {
   "cell_type": "code",
   "execution_count": 17,
   "id": "824658c8",
   "metadata": {},
   "outputs": [
    {
     "data": {
      "text/plain": [
       "3"
      ]
     },
     "execution_count": 17,
     "metadata": {},
     "output_type": "execute_result"
    }
   ],
   "source": [
    "v.dot(w.T)"
   ]
  },
  {
   "cell_type": "code",
   "execution_count": 18,
   "id": "52a366d8",
   "metadata": {},
   "outputs": [
    {
     "data": {
      "text/plain": [
       "0"
      ]
     },
     "execution_count": 18,
     "metadata": {},
     "output_type": "execute_result"
    }
   ],
   "source": [
    "u.dot(w.T)"
   ]
  },
  {
   "cell_type": "code",
   "execution_count": 52,
   "id": "4d83e4d5",
   "metadata": {},
   "outputs": [
    {
     "name": "stdout",
     "output_type": "stream",
     "text": [
      "[[ 7 -1]\n",
      " [ 3 -1]]\n",
      "[[-2]\n",
      " [-5]]\n",
      "[[ 0.25 -0.25]\n",
      " [ 0.75 -1.75]]\n"
     ]
    }
   ],
   "source": [
    "A = np.array([[7,-1],[3,-1]])\n",
    "B = np.array([[-2],[-5]])\n",
    "A_inv = np.linalg.inv(A)\n",
    "print(A)\n",
    "print(B)\n",
    "print(A_inv)"
   ]
  },
  {
   "cell_type": "code",
   "execution_count": 53,
   "id": "5a92a19e",
   "metadata": {},
   "outputs": [
    {
     "name": "stdout",
     "output_type": "stream",
     "text": [
      "[[0.75]\n",
      " [7.25]]\n"
     ]
    }
   ],
   "source": [
    "x = A_inv.dot(B)\n",
    "print(x)"
   ]
  },
  {
   "cell_type": "code",
   "execution_count": 38,
   "id": "5c184a1b",
   "metadata": {},
   "outputs": [
    {
     "data": {
      "text/plain": [
       "array([0.75, 7.25])"
      ]
     },
     "execution_count": 38,
     "metadata": {},
     "output_type": "execute_result"
    }
   ],
   "source": [
    "x"
   ]
  },
  {
   "cell_type": "code",
   "execution_count": 36,
   "id": "32b4c21d",
   "metadata": {},
   "outputs": [
    {
     "name": "stdout",
     "output_type": "stream",
     "text": [
      "[-2 -5]\n"
     ]
    }
   ],
   "source": [
    "print(B.T)"
   ]
  },
  {
   "cell_type": "code",
   "execution_count": 41,
   "id": "c5fc6343",
   "metadata": {},
   "outputs": [
    {
     "data": {
      "text/plain": [
       "array([[10,  2],\n",
       "       [ 6,  2]])"
      ]
     },
     "execution_count": 41,
     "metadata": {},
     "output_type": "execute_result"
    }
   ],
   "source": [
    "A+3"
   ]
  },
  {
   "cell_type": "code",
   "execution_count": null,
   "id": "4ad104ef",
   "metadata": {},
   "outputs": [],
   "source": []
  },
  {
   "cell_type": "code",
   "execution_count": null,
   "id": "44a02047",
   "metadata": {},
   "outputs": [],
   "source": []
  },
  {
   "cell_type": "code",
   "execution_count": null,
   "id": "22541da4",
   "metadata": {},
   "outputs": [],
   "source": []
  }
 ],
 "metadata": {
  "kernelspec": {
   "display_name": "Python 3 (ipykernel)",
   "language": "python",
   "name": "python3"
  },
  "language_info": {
   "codemirror_mode": {
    "name": "ipython",
    "version": 3
   },
   "file_extension": ".py",
   "mimetype": "text/x-python",
   "name": "python",
   "nbconvert_exporter": "python",
   "pygments_lexer": "ipython3",
   "version": "3.8.13"
  }
 },
 "nbformat": 4,
 "nbformat_minor": 5
}
